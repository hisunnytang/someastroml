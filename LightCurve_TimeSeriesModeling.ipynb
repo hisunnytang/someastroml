{
  "nbformat": 4,
  "nbformat_minor": 0,
  "metadata": {
    "accelerator": "GPU",
    "colab": {
      "name": "LightCurve-TimeSeriesModeling.ipynb",
      "provenance": [],
      "collapsed_sections": [],
      "toc_visible": true,
      "mount_file_id": "1qMWoRqtE1ZE7Vm6cqHRaw8j_hsTueWcv",
      "authorship_tag": "ABX9TyMvLb/jY2epkuznItC1bhuU",
      "include_colab_link": true
    },
    "kernelspec": {
      "display_name": "Python 3",
      "name": "python3"
    },
    "widgets": {
      "application/vnd.jupyter.widget-state+json": {
        "03f03706bac04f35a7943f4902de7f3a": {
          "model_module": "@jupyter-widgets/controls",
          "model_name": "HBoxModel",
          "state": {
            "_view_name": "HBoxView",
            "_dom_classes": [],
            "_model_name": "HBoxModel",
            "_view_module": "@jupyter-widgets/controls",
            "_model_module_version": "1.5.0",
            "_view_count": null,
            "_view_module_version": "1.5.0",
            "box_style": "",
            "layout": "IPY_MODEL_14a651cebf764855b3f1d52796c94954",
            "_model_module": "@jupyter-widgets/controls",
            "children": [
              "IPY_MODEL_6779e69938ed49b79947ce906aa504cb",
              "IPY_MODEL_f00fca9a4e7b4e49bcd9b8d92f89775f"
            ]
          }
        },
        "14a651cebf764855b3f1d52796c94954": {
          "model_module": "@jupyter-widgets/base",
          "model_name": "LayoutModel",
          "state": {
            "_view_name": "LayoutView",
            "grid_template_rows": null,
            "right": null,
            "justify_content": null,
            "_view_module": "@jupyter-widgets/base",
            "overflow": null,
            "_model_module_version": "1.2.0",
            "_view_count": null,
            "flex_flow": null,
            "width": null,
            "min_width": null,
            "border": null,
            "align_items": null,
            "bottom": null,
            "_model_module": "@jupyter-widgets/base",
            "top": null,
            "grid_column": null,
            "overflow_y": null,
            "overflow_x": null,
            "grid_auto_flow": null,
            "grid_area": null,
            "grid_template_columns": null,
            "flex": null,
            "_model_name": "LayoutModel",
            "justify_items": null,
            "grid_row": null,
            "max_height": null,
            "align_content": null,
            "visibility": null,
            "align_self": null,
            "height": null,
            "min_height": null,
            "padding": null,
            "grid_auto_rows": null,
            "grid_gap": null,
            "max_width": null,
            "order": null,
            "_view_module_version": "1.2.0",
            "grid_template_areas": null,
            "object_position": null,
            "object_fit": null,
            "grid_auto_columns": null,
            "margin": null,
            "display": null,
            "left": null
          }
        },
        "6779e69938ed49b79947ce906aa504cb": {
          "model_module": "@jupyter-widgets/controls",
          "model_name": "FloatProgressModel",
          "state": {
            "_view_name": "ProgressView",
            "style": "IPY_MODEL_4f16612be8734d6ebe4ff42eb85f3c5f",
            "_dom_classes": [],
            "description": "",
            "_model_name": "FloatProgressModel",
            "bar_style": "danger",
            "max": 1,
            "_view_module": "@jupyter-widgets/controls",
            "_model_module_version": "1.5.0",
            "value": 0,
            "_view_count": null,
            "_view_module_version": "1.5.0",
            "orientation": "horizontal",
            "min": 0,
            "description_tooltip": null,
            "_model_module": "@jupyter-widgets/controls",
            "layout": "IPY_MODEL_34d94cbd18a2402ea293d2e98a7faed7"
          }
        },
        "f00fca9a4e7b4e49bcd9b8d92f89775f": {
          "model_module": "@jupyter-widgets/controls",
          "model_name": "HTMLModel",
          "state": {
            "_view_name": "HTMLView",
            "style": "IPY_MODEL_9d20f7bcc68c4095a023146e4ae62038",
            "_dom_classes": [],
            "description": "",
            "_model_name": "HTMLModel",
            "placeholder": "​",
            "_view_module": "@jupyter-widgets/controls",
            "_model_module_version": "1.5.0",
            "value": " 0/? [00:01&lt;?, ?it/s]",
            "_view_count": null,
            "_view_module_version": "1.5.0",
            "description_tooltip": null,
            "_model_module": "@jupyter-widgets/controls",
            "layout": "IPY_MODEL_099ba3585e804a0aaf8617a2b79133d9"
          }
        },
        "4f16612be8734d6ebe4ff42eb85f3c5f": {
          "model_module": "@jupyter-widgets/controls",
          "model_name": "ProgressStyleModel",
          "state": {
            "_view_name": "StyleView",
            "_model_name": "ProgressStyleModel",
            "description_width": "initial",
            "_view_module": "@jupyter-widgets/base",
            "_model_module_version": "1.5.0",
            "_view_count": null,
            "_view_module_version": "1.2.0",
            "bar_color": null,
            "_model_module": "@jupyter-widgets/controls"
          }
        },
        "34d94cbd18a2402ea293d2e98a7faed7": {
          "model_module": "@jupyter-widgets/base",
          "model_name": "LayoutModel",
          "state": {
            "_view_name": "LayoutView",
            "grid_template_rows": null,
            "right": null,
            "justify_content": null,
            "_view_module": "@jupyter-widgets/base",
            "overflow": null,
            "_model_module_version": "1.2.0",
            "_view_count": null,
            "flex_flow": null,
            "width": null,
            "min_width": null,
            "border": null,
            "align_items": null,
            "bottom": null,
            "_model_module": "@jupyter-widgets/base",
            "top": null,
            "grid_column": null,
            "overflow_y": null,
            "overflow_x": null,
            "grid_auto_flow": null,
            "grid_area": null,
            "grid_template_columns": null,
            "flex": null,
            "_model_name": "LayoutModel",
            "justify_items": null,
            "grid_row": null,
            "max_height": null,
            "align_content": null,
            "visibility": null,
            "align_self": null,
            "height": null,
            "min_height": null,
            "padding": null,
            "grid_auto_rows": null,
            "grid_gap": null,
            "max_width": null,
            "order": null,
            "_view_module_version": "1.2.0",
            "grid_template_areas": null,
            "object_position": null,
            "object_fit": null,
            "grid_auto_columns": null,
            "margin": null,
            "display": null,
            "left": null
          }
        },
        "9d20f7bcc68c4095a023146e4ae62038": {
          "model_module": "@jupyter-widgets/controls",
          "model_name": "DescriptionStyleModel",
          "state": {
            "_view_name": "StyleView",
            "_model_name": "DescriptionStyleModel",
            "description_width": "",
            "_view_module": "@jupyter-widgets/base",
            "_model_module_version": "1.5.0",
            "_view_count": null,
            "_view_module_version": "1.2.0",
            "_model_module": "@jupyter-widgets/controls"
          }
        },
        "099ba3585e804a0aaf8617a2b79133d9": {
          "model_module": "@jupyter-widgets/base",
          "model_name": "LayoutModel",
          "state": {
            "_view_name": "LayoutView",
            "grid_template_rows": null,
            "right": null,
            "justify_content": null,
            "_view_module": "@jupyter-widgets/base",
            "overflow": null,
            "_model_module_version": "1.2.0",
            "_view_count": null,
            "flex_flow": null,
            "width": null,
            "min_width": null,
            "border": null,
            "align_items": null,
            "bottom": null,
            "_model_module": "@jupyter-widgets/base",
            "top": null,
            "grid_column": null,
            "overflow_y": null,
            "overflow_x": null,
            "grid_auto_flow": null,
            "grid_area": null,
            "grid_template_columns": null,
            "flex": null,
            "_model_name": "LayoutModel",
            "justify_items": null,
            "grid_row": null,
            "max_height": null,
            "align_content": null,
            "visibility": null,
            "align_self": null,
            "height": null,
            "min_height": null,
            "padding": null,
            "grid_auto_rows": null,
            "grid_gap": null,
            "max_width": null,
            "order": null,
            "_view_module_version": "1.2.0",
            "grid_template_areas": null,
            "object_position": null,
            "object_fit": null,
            "grid_auto_columns": null,
            "margin": null,
            "display": null,
            "left": null
          }
        },
        "bfca46436a02449187968a14e3729776": {
          "model_module": "@jupyter-widgets/controls",
          "model_name": "HBoxModel",
          "state": {
            "_view_name": "HBoxView",
            "_dom_classes": [],
            "_model_name": "HBoxModel",
            "_view_module": "@jupyter-widgets/controls",
            "_model_module_version": "1.5.0",
            "_view_count": null,
            "_view_module_version": "1.5.0",
            "box_style": "",
            "layout": "IPY_MODEL_648cdebefad945a49964fdbebcb13dbc",
            "_model_module": "@jupyter-widgets/controls",
            "children": [
              "IPY_MODEL_e24693f270674eb3b041d1cdca1af04c",
              "IPY_MODEL_c96dc0ef1bcb477da4397f5ad1c693bf"
            ]
          }
        },
        "648cdebefad945a49964fdbebcb13dbc": {
          "model_module": "@jupyter-widgets/base",
          "model_name": "LayoutModel",
          "state": {
            "_view_name": "LayoutView",
            "grid_template_rows": null,
            "right": null,
            "justify_content": null,
            "_view_module": "@jupyter-widgets/base",
            "overflow": null,
            "_model_module_version": "1.2.0",
            "_view_count": null,
            "flex_flow": null,
            "width": null,
            "min_width": null,
            "border": null,
            "align_items": null,
            "bottom": null,
            "_model_module": "@jupyter-widgets/base",
            "top": null,
            "grid_column": null,
            "overflow_y": null,
            "overflow_x": null,
            "grid_auto_flow": null,
            "grid_area": null,
            "grid_template_columns": null,
            "flex": null,
            "_model_name": "LayoutModel",
            "justify_items": null,
            "grid_row": null,
            "max_height": null,
            "align_content": null,
            "visibility": null,
            "align_self": null,
            "height": null,
            "min_height": null,
            "padding": null,
            "grid_auto_rows": null,
            "grid_gap": null,
            "max_width": null,
            "order": null,
            "_view_module_version": "1.2.0",
            "grid_template_areas": null,
            "object_position": null,
            "object_fit": null,
            "grid_auto_columns": null,
            "margin": null,
            "display": null,
            "left": null
          }
        },
        "e24693f270674eb3b041d1cdca1af04c": {
          "model_module": "@jupyter-widgets/controls",
          "model_name": "FloatProgressModel",
          "state": {
            "_view_name": "ProgressView",
            "style": "IPY_MODEL_9965ff5fbfd7482c8209b220a54f97c8",
            "_dom_classes": [],
            "description": "",
            "_model_name": "FloatProgressModel",
            "bar_style": "success",
            "max": 1,
            "_view_module": "@jupyter-widgets/controls",
            "_model_module_version": "1.5.0",
            "value": 1,
            "_view_count": null,
            "_view_module_version": "1.5.0",
            "orientation": "horizontal",
            "min": 0,
            "description_tooltip": null,
            "_model_module": "@jupyter-widgets/controls",
            "layout": "IPY_MODEL_44570eda870f452383076cbc18e467ee"
          }
        },
        "c96dc0ef1bcb477da4397f5ad1c693bf": {
          "model_module": "@jupyter-widgets/controls",
          "model_name": "HTMLModel",
          "state": {
            "_view_name": "HTMLView",
            "style": "IPY_MODEL_aeb8c8e25623409daf79665cf10bd8d4",
            "_dom_classes": [],
            "description": "",
            "_model_name": "HTMLModel",
            "placeholder": "​",
            "_view_module": "@jupyter-widgets/controls",
            "_model_module_version": "1.5.0",
            "value": " 16/? [03:57&lt;00:00, 14.86s/it]",
            "_view_count": null,
            "_view_module_version": "1.5.0",
            "description_tooltip": null,
            "_model_module": "@jupyter-widgets/controls",
            "layout": "IPY_MODEL_4ff1689e2ba64c3ab33d5334cd635b37"
          }
        },
        "9965ff5fbfd7482c8209b220a54f97c8": {
          "model_module": "@jupyter-widgets/controls",
          "model_name": "ProgressStyleModel",
          "state": {
            "_view_name": "StyleView",
            "_model_name": "ProgressStyleModel",
            "description_width": "initial",
            "_view_module": "@jupyter-widgets/base",
            "_model_module_version": "1.5.0",
            "_view_count": null,
            "_view_module_version": "1.2.0",
            "bar_color": null,
            "_model_module": "@jupyter-widgets/controls"
          }
        },
        "44570eda870f452383076cbc18e467ee": {
          "model_module": "@jupyter-widgets/base",
          "model_name": "LayoutModel",
          "state": {
            "_view_name": "LayoutView",
            "grid_template_rows": null,
            "right": null,
            "justify_content": null,
            "_view_module": "@jupyter-widgets/base",
            "overflow": null,
            "_model_module_version": "1.2.0",
            "_view_count": null,
            "flex_flow": null,
            "width": null,
            "min_width": null,
            "border": null,
            "align_items": null,
            "bottom": null,
            "_model_module": "@jupyter-widgets/base",
            "top": null,
            "grid_column": null,
            "overflow_y": null,
            "overflow_x": null,
            "grid_auto_flow": null,
            "grid_area": null,
            "grid_template_columns": null,
            "flex": null,
            "_model_name": "LayoutModel",
            "justify_items": null,
            "grid_row": null,
            "max_height": null,
            "align_content": null,
            "visibility": null,
            "align_self": null,
            "height": null,
            "min_height": null,
            "padding": null,
            "grid_auto_rows": null,
            "grid_gap": null,
            "max_width": null,
            "order": null,
            "_view_module_version": "1.2.0",
            "grid_template_areas": null,
            "object_position": null,
            "object_fit": null,
            "grid_auto_columns": null,
            "margin": null,
            "display": null,
            "left": null
          }
        },
        "aeb8c8e25623409daf79665cf10bd8d4": {
          "model_module": "@jupyter-widgets/controls",
          "model_name": "DescriptionStyleModel",
          "state": {
            "_view_name": "StyleView",
            "_model_name": "DescriptionStyleModel",
            "description_width": "",
            "_view_module": "@jupyter-widgets/base",
            "_model_module_version": "1.5.0",
            "_view_count": null,
            "_view_module_version": "1.2.0",
            "_model_module": "@jupyter-widgets/controls"
          }
        },
        "4ff1689e2ba64c3ab33d5334cd635b37": {
          "model_module": "@jupyter-widgets/base",
          "model_name": "LayoutModel",
          "state": {
            "_view_name": "LayoutView",
            "grid_template_rows": null,
            "right": null,
            "justify_content": null,
            "_view_module": "@jupyter-widgets/base",
            "overflow": null,
            "_model_module_version": "1.2.0",
            "_view_count": null,
            "flex_flow": null,
            "width": null,
            "min_width": null,
            "border": null,
            "align_items": null,
            "bottom": null,
            "_model_module": "@jupyter-widgets/base",
            "top": null,
            "grid_column": null,
            "overflow_y": null,
            "overflow_x": null,
            "grid_auto_flow": null,
            "grid_area": null,
            "grid_template_columns": null,
            "flex": null,
            "_model_name": "LayoutModel",
            "justify_items": null,
            "grid_row": null,
            "max_height": null,
            "align_content": null,
            "visibility": null,
            "align_self": null,
            "height": null,
            "min_height": null,
            "padding": null,
            "grid_auto_rows": null,
            "grid_gap": null,
            "max_width": null,
            "order": null,
            "_view_module_version": "1.2.0",
            "grid_template_areas": null,
            "object_position": null,
            "object_fit": null,
            "grid_auto_columns": null,
            "margin": null,
            "display": null,
            "left": null
          }
        },
        "c13878066a904c8f817dcf4e88b1768a": {
          "model_module": "@jupyter-widgets/controls",
          "model_name": "HBoxModel",
          "state": {
            "_view_name": "HBoxView",
            "_dom_classes": [],
            "_model_name": "HBoxModel",
            "_view_module": "@jupyter-widgets/controls",
            "_model_module_version": "1.5.0",
            "_view_count": null,
            "_view_module_version": "1.5.0",
            "box_style": "",
            "layout": "IPY_MODEL_147c7c53f57d4e4c9e868f4b86a246e7",
            "_model_module": "@jupyter-widgets/controls",
            "children": [
              "IPY_MODEL_a3db0cc0031047d59fb6d174af70a89e",
              "IPY_MODEL_2584e0f4afe941b2bd20e7be344eb4eb"
            ]
          }
        },
        "147c7c53f57d4e4c9e868f4b86a246e7": {
          "model_module": "@jupyter-widgets/base",
          "model_name": "LayoutModel",
          "state": {
            "_view_name": "LayoutView",
            "grid_template_rows": null,
            "right": null,
            "justify_content": null,
            "_view_module": "@jupyter-widgets/base",
            "overflow": null,
            "_model_module_version": "1.2.0",
            "_view_count": null,
            "flex_flow": null,
            "width": null,
            "min_width": null,
            "border": null,
            "align_items": null,
            "bottom": null,
            "_model_module": "@jupyter-widgets/base",
            "top": null,
            "grid_column": null,
            "overflow_y": null,
            "overflow_x": null,
            "grid_auto_flow": null,
            "grid_area": null,
            "grid_template_columns": null,
            "flex": null,
            "_model_name": "LayoutModel",
            "justify_items": null,
            "grid_row": null,
            "max_height": null,
            "align_content": null,
            "visibility": null,
            "align_self": null,
            "height": null,
            "min_height": null,
            "padding": null,
            "grid_auto_rows": null,
            "grid_gap": null,
            "max_width": null,
            "order": null,
            "_view_module_version": "1.2.0",
            "grid_template_areas": null,
            "object_position": null,
            "object_fit": null,
            "grid_auto_columns": null,
            "margin": null,
            "display": null,
            "left": null
          }
        },
        "a3db0cc0031047d59fb6d174af70a89e": {
          "model_module": "@jupyter-widgets/controls",
          "model_name": "FloatProgressModel",
          "state": {
            "_view_name": "ProgressView",
            "style": "IPY_MODEL_95e41e6844614409acc4437d8d2fff54",
            "_dom_classes": [],
            "description": "",
            "_model_name": "FloatProgressModel",
            "bar_style": "success",
            "max": 1,
            "_view_module": "@jupyter-widgets/controls",
            "_model_module_version": "1.5.0",
            "value": 1,
            "_view_count": null,
            "_view_module_version": "1.5.0",
            "orientation": "horizontal",
            "min": 0,
            "description_tooltip": null,
            "_model_module": "@jupyter-widgets/controls",
            "layout": "IPY_MODEL_2d3922c530b94edfa36e7561ddc28522"
          }
        },
        "2584e0f4afe941b2bd20e7be344eb4eb": {
          "model_module": "@jupyter-widgets/controls",
          "model_name": "HTMLModel",
          "state": {
            "_view_name": "HTMLView",
            "style": "IPY_MODEL_7cb0774e76d146c28ee2c47a568fcde3",
            "_dom_classes": [],
            "description": "",
            "_model_name": "HTMLModel",
            "placeholder": "​",
            "_view_module": "@jupyter-widgets/controls",
            "_model_module_version": "1.5.0",
            "value": " 16/? [03:58&lt;00:00, 14.88s/it]",
            "_view_count": null,
            "_view_module_version": "1.5.0",
            "description_tooltip": null,
            "_model_module": "@jupyter-widgets/controls",
            "layout": "IPY_MODEL_e637b39eb3734772b6571c39f2b6ecf9"
          }
        },
        "95e41e6844614409acc4437d8d2fff54": {
          "model_module": "@jupyter-widgets/controls",
          "model_name": "ProgressStyleModel",
          "state": {
            "_view_name": "StyleView",
            "_model_name": "ProgressStyleModel",
            "description_width": "initial",
            "_view_module": "@jupyter-widgets/base",
            "_model_module_version": "1.5.0",
            "_view_count": null,
            "_view_module_version": "1.2.0",
            "bar_color": null,
            "_model_module": "@jupyter-widgets/controls"
          }
        },
        "2d3922c530b94edfa36e7561ddc28522": {
          "model_module": "@jupyter-widgets/base",
          "model_name": "LayoutModel",
          "state": {
            "_view_name": "LayoutView",
            "grid_template_rows": null,
            "right": null,
            "justify_content": null,
            "_view_module": "@jupyter-widgets/base",
            "overflow": null,
            "_model_module_version": "1.2.0",
            "_view_count": null,
            "flex_flow": null,
            "width": null,
            "min_width": null,
            "border": null,
            "align_items": null,
            "bottom": null,
            "_model_module": "@jupyter-widgets/base",
            "top": null,
            "grid_column": null,
            "overflow_y": null,
            "overflow_x": null,
            "grid_auto_flow": null,
            "grid_area": null,
            "grid_template_columns": null,
            "flex": null,
            "_model_name": "LayoutModel",
            "justify_items": null,
            "grid_row": null,
            "max_height": null,
            "align_content": null,
            "visibility": null,
            "align_self": null,
            "height": null,
            "min_height": null,
            "padding": null,
            "grid_auto_rows": null,
            "grid_gap": null,
            "max_width": null,
            "order": null,
            "_view_module_version": "1.2.0",
            "grid_template_areas": null,
            "object_position": null,
            "object_fit": null,
            "grid_auto_columns": null,
            "margin": null,
            "display": null,
            "left": null
          }
        },
        "7cb0774e76d146c28ee2c47a568fcde3": {
          "model_module": "@jupyter-widgets/controls",
          "model_name": "DescriptionStyleModel",
          "state": {
            "_view_name": "StyleView",
            "_model_name": "DescriptionStyleModel",
            "description_width": "",
            "_view_module": "@jupyter-widgets/base",
            "_model_module_version": "1.5.0",
            "_view_count": null,
            "_view_module_version": "1.2.0",
            "_model_module": "@jupyter-widgets/controls"
          }
        },
        "e637b39eb3734772b6571c39f2b6ecf9": {
          "model_module": "@jupyter-widgets/base",
          "model_name": "LayoutModel",
          "state": {
            "_view_name": "LayoutView",
            "grid_template_rows": null,
            "right": null,
            "justify_content": null,
            "_view_module": "@jupyter-widgets/base",
            "overflow": null,
            "_model_module_version": "1.2.0",
            "_view_count": null,
            "flex_flow": null,
            "width": null,
            "min_width": null,
            "border": null,
            "align_items": null,
            "bottom": null,
            "_model_module": "@jupyter-widgets/base",
            "top": null,
            "grid_column": null,
            "overflow_y": null,
            "overflow_x": null,
            "grid_auto_flow": null,
            "grid_area": null,
            "grid_template_columns": null,
            "flex": null,
            "_model_name": "LayoutModel",
            "justify_items": null,
            "grid_row": null,
            "max_height": null,
            "align_content": null,
            "visibility": null,
            "align_self": null,
            "height": null,
            "min_height": null,
            "padding": null,
            "grid_auto_rows": null,
            "grid_gap": null,
            "max_width": null,
            "order": null,
            "_view_module_version": "1.2.0",
            "grid_template_areas": null,
            "object_position": null,
            "object_fit": null,
            "grid_auto_columns": null,
            "margin": null,
            "display": null,
            "left": null
          }
        },
        "d8b8c78b9dbc4e659e5a6c3b998c2e11": {
          "model_module": "@jupyter-widgets/controls",
          "model_name": "HBoxModel",
          "state": {
            "_view_name": "HBoxView",
            "_dom_classes": [],
            "_model_name": "HBoxModel",
            "_view_module": "@jupyter-widgets/controls",
            "_model_module_version": "1.5.0",
            "_view_count": null,
            "_view_module_version": "1.5.0",
            "box_style": "",
            "layout": "IPY_MODEL_0bbe8de1d5544001bf38e3c6dc46c01f",
            "_model_module": "@jupyter-widgets/controls",
            "children": [
              "IPY_MODEL_50c2a4c61eaf410597da6bc1f0427284",
              "IPY_MODEL_4617d0d6885c4b659f6cb2abe0d3986f"
            ]
          }
        },
        "0bbe8de1d5544001bf38e3c6dc46c01f": {
          "model_module": "@jupyter-widgets/base",
          "model_name": "LayoutModel",
          "state": {
            "_view_name": "LayoutView",
            "grid_template_rows": null,
            "right": null,
            "justify_content": null,
            "_view_module": "@jupyter-widgets/base",
            "overflow": null,
            "_model_module_version": "1.2.0",
            "_view_count": null,
            "flex_flow": null,
            "width": null,
            "min_width": null,
            "border": null,
            "align_items": null,
            "bottom": null,
            "_model_module": "@jupyter-widgets/base",
            "top": null,
            "grid_column": null,
            "overflow_y": null,
            "overflow_x": null,
            "grid_auto_flow": null,
            "grid_area": null,
            "grid_template_columns": null,
            "flex": null,
            "_model_name": "LayoutModel",
            "justify_items": null,
            "grid_row": null,
            "max_height": null,
            "align_content": null,
            "visibility": null,
            "align_self": null,
            "height": null,
            "min_height": null,
            "padding": null,
            "grid_auto_rows": null,
            "grid_gap": null,
            "max_width": null,
            "order": null,
            "_view_module_version": "1.2.0",
            "grid_template_areas": null,
            "object_position": null,
            "object_fit": null,
            "grid_auto_columns": null,
            "margin": null,
            "display": null,
            "left": null
          }
        },
        "50c2a4c61eaf410597da6bc1f0427284": {
          "model_module": "@jupyter-widgets/controls",
          "model_name": "FloatProgressModel",
          "state": {
            "_view_name": "ProgressView",
            "style": "IPY_MODEL_15ebba1a6b9440628512646e4ebf886c",
            "_dom_classes": [],
            "description": "",
            "_model_name": "FloatProgressModel",
            "bar_style": "success",
            "max": 1,
            "_view_module": "@jupyter-widgets/controls",
            "_model_module_version": "1.5.0",
            "value": 1,
            "_view_count": null,
            "_view_module_version": "1.5.0",
            "orientation": "horizontal",
            "min": 0,
            "description_tooltip": null,
            "_model_module": "@jupyter-widgets/controls",
            "layout": "IPY_MODEL_1bf2b0e7ad6d4e0b827bf1d9434b26d5"
          }
        },
        "4617d0d6885c4b659f6cb2abe0d3986f": {
          "model_module": "@jupyter-widgets/controls",
          "model_name": "HTMLModel",
          "state": {
            "_view_name": "HTMLView",
            "style": "IPY_MODEL_704879bd3a284f0ea87e506c2617f5dc",
            "_dom_classes": [],
            "description": "",
            "_model_name": "HTMLModel",
            "placeholder": "​",
            "_view_module": "@jupyter-widgets/controls",
            "_model_module_version": "1.5.0",
            "value": " 16/? [03:52&lt;00:00, 14.50s/it]",
            "_view_count": null,
            "_view_module_version": "1.5.0",
            "description_tooltip": null,
            "_model_module": "@jupyter-widgets/controls",
            "layout": "IPY_MODEL_dd8cdbf4937d42c4a6b096cf823d0773"
          }
        },
        "15ebba1a6b9440628512646e4ebf886c": {
          "model_module": "@jupyter-widgets/controls",
          "model_name": "ProgressStyleModel",
          "state": {
            "_view_name": "StyleView",
            "_model_name": "ProgressStyleModel",
            "description_width": "initial",
            "_view_module": "@jupyter-widgets/base",
            "_model_module_version": "1.5.0",
            "_view_count": null,
            "_view_module_version": "1.2.0",
            "bar_color": null,
            "_model_module": "@jupyter-widgets/controls"
          }
        },
        "1bf2b0e7ad6d4e0b827bf1d9434b26d5": {
          "model_module": "@jupyter-widgets/base",
          "model_name": "LayoutModel",
          "state": {
            "_view_name": "LayoutView",
            "grid_template_rows": null,
            "right": null,
            "justify_content": null,
            "_view_module": "@jupyter-widgets/base",
            "overflow": null,
            "_model_module_version": "1.2.0",
            "_view_count": null,
            "flex_flow": null,
            "width": null,
            "min_width": null,
            "border": null,
            "align_items": null,
            "bottom": null,
            "_model_module": "@jupyter-widgets/base",
            "top": null,
            "grid_column": null,
            "overflow_y": null,
            "overflow_x": null,
            "grid_auto_flow": null,
            "grid_area": null,
            "grid_template_columns": null,
            "flex": null,
            "_model_name": "LayoutModel",
            "justify_items": null,
            "grid_row": null,
            "max_height": null,
            "align_content": null,
            "visibility": null,
            "align_self": null,
            "height": null,
            "min_height": null,
            "padding": null,
            "grid_auto_rows": null,
            "grid_gap": null,
            "max_width": null,
            "order": null,
            "_view_module_version": "1.2.0",
            "grid_template_areas": null,
            "object_position": null,
            "object_fit": null,
            "grid_auto_columns": null,
            "margin": null,
            "display": null,
            "left": null
          }
        },
        "704879bd3a284f0ea87e506c2617f5dc": {
          "model_module": "@jupyter-widgets/controls",
          "model_name": "DescriptionStyleModel",
          "state": {
            "_view_name": "StyleView",
            "_model_name": "DescriptionStyleModel",
            "description_width": "",
            "_view_module": "@jupyter-widgets/base",
            "_model_module_version": "1.5.0",
            "_view_count": null,
            "_view_module_version": "1.2.0",
            "_model_module": "@jupyter-widgets/controls"
          }
        },
        "dd8cdbf4937d42c4a6b096cf823d0773": {
          "model_module": "@jupyter-widgets/base",
          "model_name": "LayoutModel",
          "state": {
            "_view_name": "LayoutView",
            "grid_template_rows": null,
            "right": null,
            "justify_content": null,
            "_view_module": "@jupyter-widgets/base",
            "overflow": null,
            "_model_module_version": "1.2.0",
            "_view_count": null,
            "flex_flow": null,
            "width": null,
            "min_width": null,
            "border": null,
            "align_items": null,
            "bottom": null,
            "_model_module": "@jupyter-widgets/base",
            "top": null,
            "grid_column": null,
            "overflow_y": null,
            "overflow_x": null,
            "grid_auto_flow": null,
            "grid_area": null,
            "grid_template_columns": null,
            "flex": null,
            "_model_name": "LayoutModel",
            "justify_items": null,
            "grid_row": null,
            "max_height": null,
            "align_content": null,
            "visibility": null,
            "align_self": null,
            "height": null,
            "min_height": null,
            "padding": null,
            "grid_auto_rows": null,
            "grid_gap": null,
            "max_width": null,
            "order": null,
            "_view_module_version": "1.2.0",
            "grid_template_areas": null,
            "object_position": null,
            "object_fit": null,
            "grid_auto_columns": null,
            "margin": null,
            "display": null,
            "left": null
          }
        },
        "6ba1d66c71ba4a1bae2be8d570489fe7": {
          "model_module": "@jupyter-widgets/controls",
          "model_name": "HBoxModel",
          "state": {
            "_view_name": "HBoxView",
            "_dom_classes": [],
            "_model_name": "HBoxModel",
            "_view_module": "@jupyter-widgets/controls",
            "_model_module_version": "1.5.0",
            "_view_count": null,
            "_view_module_version": "1.5.0",
            "box_style": "",
            "layout": "IPY_MODEL_8864a9afcec14881b8adaa1fe6bd11df",
            "_model_module": "@jupyter-widgets/controls",
            "children": [
              "IPY_MODEL_dc281e53559b4a298c938a4e941c7b98",
              "IPY_MODEL_f7e9cc7b55304bedabdf4039d5905cf6"
            ]
          }
        },
        "8864a9afcec14881b8adaa1fe6bd11df": {
          "model_module": "@jupyter-widgets/base",
          "model_name": "LayoutModel",
          "state": {
            "_view_name": "LayoutView",
            "grid_template_rows": null,
            "right": null,
            "justify_content": null,
            "_view_module": "@jupyter-widgets/base",
            "overflow": null,
            "_model_module_version": "1.2.0",
            "_view_count": null,
            "flex_flow": null,
            "width": null,
            "min_width": null,
            "border": null,
            "align_items": null,
            "bottom": null,
            "_model_module": "@jupyter-widgets/base",
            "top": null,
            "grid_column": null,
            "overflow_y": null,
            "overflow_x": null,
            "grid_auto_flow": null,
            "grid_area": null,
            "grid_template_columns": null,
            "flex": null,
            "_model_name": "LayoutModel",
            "justify_items": null,
            "grid_row": null,
            "max_height": null,
            "align_content": null,
            "visibility": null,
            "align_self": null,
            "height": null,
            "min_height": null,
            "padding": null,
            "grid_auto_rows": null,
            "grid_gap": null,
            "max_width": null,
            "order": null,
            "_view_module_version": "1.2.0",
            "grid_template_areas": null,
            "object_position": null,
            "object_fit": null,
            "grid_auto_columns": null,
            "margin": null,
            "display": null,
            "left": null
          }
        },
        "dc281e53559b4a298c938a4e941c7b98": {
          "model_module": "@jupyter-widgets/controls",
          "model_name": "FloatProgressModel",
          "state": {
            "_view_name": "ProgressView",
            "style": "IPY_MODEL_9d9d867cdee6497bb1ac55d05d7315c0",
            "_dom_classes": [],
            "description": "",
            "_model_name": "FloatProgressModel",
            "bar_style": "info",
            "max": 1,
            "_view_module": "@jupyter-widgets/controls",
            "_model_module_version": "1.5.0",
            "value": 1,
            "_view_count": null,
            "_view_module_version": "1.5.0",
            "orientation": "horizontal",
            "min": 0,
            "description_tooltip": null,
            "_model_module": "@jupyter-widgets/controls",
            "layout": "IPY_MODEL_db4ebdcfb6d941019ad8e5d5097c60a2"
          }
        },
        "f7e9cc7b55304bedabdf4039d5905cf6": {
          "model_module": "@jupyter-widgets/controls",
          "model_name": "HTMLModel",
          "state": {
            "_view_name": "HTMLView",
            "style": "IPY_MODEL_55d67de3737540d88e8d059dae6c259e",
            "_dom_classes": [],
            "description": "",
            "_model_name": "HTMLModel",
            "placeholder": "​",
            "_view_module": "@jupyter-widgets/controls",
            "_model_module_version": "1.5.0",
            "value": " 7/? [01:44&lt;00:00, 14.86s/it]",
            "_view_count": null,
            "_view_module_version": "1.5.0",
            "description_tooltip": null,
            "_model_module": "@jupyter-widgets/controls",
            "layout": "IPY_MODEL_cbb8704df0e5492b982b69f8e0196e43"
          }
        },
        "9d9d867cdee6497bb1ac55d05d7315c0": {
          "model_module": "@jupyter-widgets/controls",
          "model_name": "ProgressStyleModel",
          "state": {
            "_view_name": "StyleView",
            "_model_name": "ProgressStyleModel",
            "description_width": "initial",
            "_view_module": "@jupyter-widgets/base",
            "_model_module_version": "1.5.0",
            "_view_count": null,
            "_view_module_version": "1.2.0",
            "bar_color": null,
            "_model_module": "@jupyter-widgets/controls"
          }
        },
        "db4ebdcfb6d941019ad8e5d5097c60a2": {
          "model_module": "@jupyter-widgets/base",
          "model_name": "LayoutModel",
          "state": {
            "_view_name": "LayoutView",
            "grid_template_rows": null,
            "right": null,
            "justify_content": null,
            "_view_module": "@jupyter-widgets/base",
            "overflow": null,
            "_model_module_version": "1.2.0",
            "_view_count": null,
            "flex_flow": null,
            "width": null,
            "min_width": null,
            "border": null,
            "align_items": null,
            "bottom": null,
            "_model_module": "@jupyter-widgets/base",
            "top": null,
            "grid_column": null,
            "overflow_y": null,
            "overflow_x": null,
            "grid_auto_flow": null,
            "grid_area": null,
            "grid_template_columns": null,
            "flex": null,
            "_model_name": "LayoutModel",
            "justify_items": null,
            "grid_row": null,
            "max_height": null,
            "align_content": null,
            "visibility": null,
            "align_self": null,
            "height": null,
            "min_height": null,
            "padding": null,
            "grid_auto_rows": null,
            "grid_gap": null,
            "max_width": null,
            "order": null,
            "_view_module_version": "1.2.0",
            "grid_template_areas": null,
            "object_position": null,
            "object_fit": null,
            "grid_auto_columns": null,
            "margin": null,
            "display": null,
            "left": null
          }
        },
        "55d67de3737540d88e8d059dae6c259e": {
          "model_module": "@jupyter-widgets/controls",
          "model_name": "DescriptionStyleModel",
          "state": {
            "_view_name": "StyleView",
            "_model_name": "DescriptionStyleModel",
            "description_width": "",
            "_view_module": "@jupyter-widgets/base",
            "_model_module_version": "1.5.0",
            "_view_count": null,
            "_view_module_version": "1.2.0",
            "_model_module": "@jupyter-widgets/controls"
          }
        },
        "cbb8704df0e5492b982b69f8e0196e43": {
          "model_module": "@jupyter-widgets/base",
          "model_name": "LayoutModel",
          "state": {
            "_view_name": "LayoutView",
            "grid_template_rows": null,
            "right": null,
            "justify_content": null,
            "_view_module": "@jupyter-widgets/base",
            "overflow": null,
            "_model_module_version": "1.2.0",
            "_view_count": null,
            "flex_flow": null,
            "width": null,
            "min_width": null,
            "border": null,
            "align_items": null,
            "bottom": null,
            "_model_module": "@jupyter-widgets/base",
            "top": null,
            "grid_column": null,
            "overflow_y": null,
            "overflow_x": null,
            "grid_auto_flow": null,
            "grid_area": null,
            "grid_template_columns": null,
            "flex": null,
            "_model_name": "LayoutModel",
            "justify_items": null,
            "grid_row": null,
            "max_height": null,
            "align_content": null,
            "visibility": null,
            "align_self": null,
            "height": null,
            "min_height": null,
            "padding": null,
            "grid_auto_rows": null,
            "grid_gap": null,
            "max_width": null,
            "order": null,
            "_view_module_version": "1.2.0",
            "grid_template_areas": null,
            "object_position": null,
            "object_fit": null,
            "grid_auto_columns": null,
            "margin": null,
            "display": null,
            "left": null
          }
        }
      }
    }
  },
  "cells": [
    {
      "cell_type": "markdown",
      "metadata": {
        "id": "view-in-github",
        "colab_type": "text"
      },
      "source": [
        "<a href=\"https://colab.research.google.com/github/hisunnytang/someastroml/blob/main/LightCurve_TimeSeriesModeling.ipynb\" target=\"_parent\"><img src=\"https://colab.research.google.com/assets/colab-badge.svg\" alt=\"Open In Colab\"/></a>"
      ]
    },
    {
      "cell_type": "markdown",
      "metadata": {
        "id": "lwDCxOUkFCrr"
      },
      "source": [
        "# Copy the Cleaned Data here"
      ]
    },
    {
      "cell_type": "code",
      "metadata": {
        "id": "-1fyVkRUDN3K"
      },
      "source": [
        "!cp drive/MyDrive/LightCurve/a_cad6.csv .\r\n",
        "!cp drive/MyDrive/LightCurve/a_cov_cad6.csv ."
      ],
      "execution_count": 1,
      "outputs": []
    },
    {
      "cell_type": "code",
      "metadata": {
        "id": "MASvY2lXG3B4"
      },
      "source": [
        "time_series_file = \"a_cad6.csv\"\r\n",
        "cov_file         = 'a_cov_cad6.csv'"
      ],
      "execution_count": 1,
      "outputs": []
    },
    {
      "cell_type": "markdown",
      "metadata": {
        "id": "LcZw9fqmFGby"
      },
      "source": [
        "# Install the Time-Series Modelling Package"
      ]
    },
    {
      "cell_type": "code",
      "metadata": {
        "colab": {
          "base_uri": "https://localhost:8080/",
          "height": 1000
        },
        "id": "A6lcKkWsE607",
        "outputId": "3f771e30-2a17-4f19-bdff-ba7e8a4f22d7"
      },
      "source": [
        "!git clone https://github.com/edebrouwer/gru_ode_bayes.git\r\n",
        "%cd gru_ode_bayes/\r\n",
        "!pip install -e .\r\n",
        "!pip install torchdiffeq\r\n",
        "%cd ../"
      ],
      "execution_count": 3,
      "outputs": [
        {
          "output_type": "stream",
          "text": [
            "Cloning into 'gru_ode_bayes'...\n",
            "remote: Enumerating objects: 89, done.\u001b[K\n",
            "remote: Total 89 (delta 0), reused 0 (delta 0), pack-reused 89\u001b[K\n",
            "Unpacking objects: 100% (89/89), done.\n",
            "/content/gru_ode_bayes\n",
            "Obtaining file:///content/gru_ode_bayes\n",
            "Requirement already satisfied: numpy in /usr/local/lib/python3.6/dist-packages (from gru-ode-bayes==0.0.1) (1.19.5)\n",
            "Requirement already satisfied: pandas in /usr/local/lib/python3.6/dist-packages (from gru-ode-bayes==0.0.1) (1.1.5)\n",
            "Requirement already satisfied: sklearn in /usr/local/lib/python3.6/dist-packages (from gru-ode-bayes==0.0.1) (0.0)\n",
            "Requirement already satisfied: tensorflow in /usr/local/lib/python3.6/dist-packages (from gru-ode-bayes==0.0.1) (2.4.0)\n",
            "Requirement already satisfied: torch in /usr/local/lib/python3.6/dist-packages (from gru-ode-bayes==0.0.1) (1.7.0+cu101)\n",
            "Collecting argparse\n",
            "  Downloading https://files.pythonhosted.org/packages/f2/94/3af39d34be01a24a6e65433d19e107099374224905f1e0cc6bbe1fd22a2f/argparse-1.4.0-py2.py3-none-any.whl\n",
            "Requirement already satisfied: tqdm in /usr/local/lib/python3.6/dist-packages (from gru-ode-bayes==0.0.1) (4.41.1)\n",
            "Requirement already satisfied: matplotlib in /usr/local/lib/python3.6/dist-packages (from gru-ode-bayes==0.0.1) (3.2.2)\n",
            "Requirement already satisfied: pytz>=2017.2 in /usr/local/lib/python3.6/dist-packages (from pandas->gru-ode-bayes==0.0.1) (2018.9)\n",
            "Requirement already satisfied: python-dateutil>=2.7.3 in /usr/local/lib/python3.6/dist-packages (from pandas->gru-ode-bayes==0.0.1) (2.8.1)\n",
            "Requirement already satisfied: scikit-learn in /usr/local/lib/python3.6/dist-packages (from sklearn->gru-ode-bayes==0.0.1) (0.22.2.post1)\n",
            "Requirement already satisfied: flatbuffers~=1.12.0 in /usr/local/lib/python3.6/dist-packages (from tensorflow->gru-ode-bayes==0.0.1) (1.12)\n",
            "Requirement already satisfied: grpcio~=1.32.0 in /usr/local/lib/python3.6/dist-packages (from tensorflow->gru-ode-bayes==0.0.1) (1.32.0)\n",
            "Requirement already satisfied: protobuf>=3.9.2 in /usr/local/lib/python3.6/dist-packages (from tensorflow->gru-ode-bayes==0.0.1) (3.12.4)\n",
            "Requirement already satisfied: google-pasta~=0.2 in /usr/local/lib/python3.6/dist-packages (from tensorflow->gru-ode-bayes==0.0.1) (0.2.0)\n",
            "Requirement already satisfied: wheel~=0.35 in /usr/local/lib/python3.6/dist-packages (from tensorflow->gru-ode-bayes==0.0.1) (0.36.2)\n",
            "Requirement already satisfied: absl-py~=0.10 in /usr/local/lib/python3.6/dist-packages (from tensorflow->gru-ode-bayes==0.0.1) (0.10.0)\n",
            "Requirement already satisfied: typing-extensions~=3.7.4 in /usr/local/lib/python3.6/dist-packages (from tensorflow->gru-ode-bayes==0.0.1) (3.7.4.3)\n",
            "Requirement already satisfied: tensorflow-estimator<2.5.0,>=2.4.0rc0 in /usr/local/lib/python3.6/dist-packages (from tensorflow->gru-ode-bayes==0.0.1) (2.4.0)\n",
            "Requirement already satisfied: astunparse~=1.6.3 in /usr/local/lib/python3.6/dist-packages (from tensorflow->gru-ode-bayes==0.0.1) (1.6.3)\n",
            "Requirement already satisfied: six~=1.15.0 in /usr/local/lib/python3.6/dist-packages (from tensorflow->gru-ode-bayes==0.0.1) (1.15.0)\n",
            "Requirement already satisfied: termcolor~=1.1.0 in /usr/local/lib/python3.6/dist-packages (from tensorflow->gru-ode-bayes==0.0.1) (1.1.0)\n",
            "Requirement already satisfied: opt-einsum~=3.3.0 in /usr/local/lib/python3.6/dist-packages (from tensorflow->gru-ode-bayes==0.0.1) (3.3.0)\n",
            "Requirement already satisfied: wrapt~=1.12.1 in /usr/local/lib/python3.6/dist-packages (from tensorflow->gru-ode-bayes==0.0.1) (1.12.1)\n",
            "Requirement already satisfied: gast==0.3.3 in /usr/local/lib/python3.6/dist-packages (from tensorflow->gru-ode-bayes==0.0.1) (0.3.3)\n",
            "Requirement already satisfied: tensorboard~=2.4 in /usr/local/lib/python3.6/dist-packages (from tensorflow->gru-ode-bayes==0.0.1) (2.4.0)\n",
            "Requirement already satisfied: keras-preprocessing~=1.1.2 in /usr/local/lib/python3.6/dist-packages (from tensorflow->gru-ode-bayes==0.0.1) (1.1.2)\n",
            "Requirement already satisfied: h5py~=2.10.0 in /usr/local/lib/python3.6/dist-packages (from tensorflow->gru-ode-bayes==0.0.1) (2.10.0)\n",
            "Requirement already satisfied: dataclasses in /usr/local/lib/python3.6/dist-packages (from torch->gru-ode-bayes==0.0.1) (0.8)\n",
            "Requirement already satisfied: future in /usr/local/lib/python3.6/dist-packages (from torch->gru-ode-bayes==0.0.1) (0.16.0)\n",
            "Requirement already satisfied: kiwisolver>=1.0.1 in /usr/local/lib/python3.6/dist-packages (from matplotlib->gru-ode-bayes==0.0.1) (1.3.1)\n",
            "Requirement already satisfied: cycler>=0.10 in /usr/local/lib/python3.6/dist-packages (from matplotlib->gru-ode-bayes==0.0.1) (0.10.0)\n",
            "Requirement already satisfied: pyparsing!=2.0.4,!=2.1.2,!=2.1.6,>=2.0.1 in /usr/local/lib/python3.6/dist-packages (from matplotlib->gru-ode-bayes==0.0.1) (2.4.7)\n",
            "Requirement already satisfied: joblib>=0.11 in /usr/local/lib/python3.6/dist-packages (from scikit-learn->sklearn->gru-ode-bayes==0.0.1) (1.0.0)\n",
            "Requirement already satisfied: scipy>=0.17.0 in /usr/local/lib/python3.6/dist-packages (from scikit-learn->sklearn->gru-ode-bayes==0.0.1) (1.4.1)\n",
            "Requirement already satisfied: setuptools in /usr/local/lib/python3.6/dist-packages (from protobuf>=3.9.2->tensorflow->gru-ode-bayes==0.0.1) (51.1.1)\n",
            "Requirement already satisfied: werkzeug>=0.11.15 in /usr/local/lib/python3.6/dist-packages (from tensorboard~=2.4->tensorflow->gru-ode-bayes==0.0.1) (1.0.1)\n",
            "Requirement already satisfied: google-auth-oauthlib<0.5,>=0.4.1 in /usr/local/lib/python3.6/dist-packages (from tensorboard~=2.4->tensorflow->gru-ode-bayes==0.0.1) (0.4.2)\n",
            "Requirement already satisfied: markdown>=2.6.8 in /usr/local/lib/python3.6/dist-packages (from tensorboard~=2.4->tensorflow->gru-ode-bayes==0.0.1) (3.3.3)\n",
            "Requirement already satisfied: tensorboard-plugin-wit>=1.6.0 in /usr/local/lib/python3.6/dist-packages (from tensorboard~=2.4->tensorflow->gru-ode-bayes==0.0.1) (1.7.0)\n",
            "Requirement already satisfied: google-auth<2,>=1.6.3 in /usr/local/lib/python3.6/dist-packages (from tensorboard~=2.4->tensorflow->gru-ode-bayes==0.0.1) (1.17.2)\n",
            "Requirement already satisfied: requests<3,>=2.21.0 in /usr/local/lib/python3.6/dist-packages (from tensorboard~=2.4->tensorflow->gru-ode-bayes==0.0.1) (2.23.0)\n",
            "Requirement already satisfied: requests-oauthlib>=0.7.0 in /usr/local/lib/python3.6/dist-packages (from google-auth-oauthlib<0.5,>=0.4.1->tensorboard~=2.4->tensorflow->gru-ode-bayes==0.0.1) (1.3.0)\n",
            "Requirement already satisfied: importlib-metadata; python_version < \"3.8\" in /usr/local/lib/python3.6/dist-packages (from markdown>=2.6.8->tensorboard~=2.4->tensorflow->gru-ode-bayes==0.0.1) (3.3.0)\n",
            "Requirement already satisfied: pyasn1-modules>=0.2.1 in /usr/local/lib/python3.6/dist-packages (from google-auth<2,>=1.6.3->tensorboard~=2.4->tensorflow->gru-ode-bayes==0.0.1) (0.2.8)\n",
            "Requirement already satisfied: cachetools<5.0,>=2.0.0 in /usr/local/lib/python3.6/dist-packages (from google-auth<2,>=1.6.3->tensorboard~=2.4->tensorflow->gru-ode-bayes==0.0.1) (4.2.0)\n",
            "Requirement already satisfied: rsa<5,>=3.1.4; python_version >= \"3\" in /usr/local/lib/python3.6/dist-packages (from google-auth<2,>=1.6.3->tensorboard~=2.4->tensorflow->gru-ode-bayes==0.0.1) (4.6)\n",
            "Requirement already satisfied: chardet<4,>=3.0.2 in /usr/local/lib/python3.6/dist-packages (from requests<3,>=2.21.0->tensorboard~=2.4->tensorflow->gru-ode-bayes==0.0.1) (3.0.4)\n",
            "Requirement already satisfied: certifi>=2017.4.17 in /usr/local/lib/python3.6/dist-packages (from requests<3,>=2.21.0->tensorboard~=2.4->tensorflow->gru-ode-bayes==0.0.1) (2020.12.5)\n",
            "Requirement already satisfied: urllib3!=1.25.0,!=1.25.1,<1.26,>=1.21.1 in /usr/local/lib/python3.6/dist-packages (from requests<3,>=2.21.0->tensorboard~=2.4->tensorflow->gru-ode-bayes==0.0.1) (1.24.3)\n",
            "Requirement already satisfied: idna<3,>=2.5 in /usr/local/lib/python3.6/dist-packages (from requests<3,>=2.21.0->tensorboard~=2.4->tensorflow->gru-ode-bayes==0.0.1) (2.10)\n",
            "Requirement already satisfied: oauthlib>=3.0.0 in /usr/local/lib/python3.6/dist-packages (from requests-oauthlib>=0.7.0->google-auth-oauthlib<0.5,>=0.4.1->tensorboard~=2.4->tensorflow->gru-ode-bayes==0.0.1) (3.1.0)\n",
            "Requirement already satisfied: zipp>=0.5 in /usr/local/lib/python3.6/dist-packages (from importlib-metadata; python_version < \"3.8\"->markdown>=2.6.8->tensorboard~=2.4->tensorflow->gru-ode-bayes==0.0.1) (3.4.0)\n",
            "Requirement already satisfied: pyasn1<0.5.0,>=0.4.6 in /usr/local/lib/python3.6/dist-packages (from pyasn1-modules>=0.2.1->google-auth<2,>=1.6.3->tensorboard~=2.4->tensorflow->gru-ode-bayes==0.0.1) (0.4.8)\n",
            "Installing collected packages: argparse, gru-ode-bayes\n",
            "  Running setup.py develop for gru-ode-bayes\n",
            "Successfully installed argparse-1.4.0 gru-ode-bayes\n"
          ],
          "name": "stdout"
        },
        {
          "output_type": "display_data",
          "data": {
            "application/vnd.colab-display-data+json": {
              "pip_warning": {
                "packages": [
                  "argparse"
                ]
              }
            }
          },
          "metadata": {
            "tags": []
          }
        },
        {
          "output_type": "stream",
          "text": [
            "Collecting torchdiffeq\n",
            "  Downloading https://files.pythonhosted.org/packages/67/af/377e42c20058f4891dedc1827c1a6b7b16772a452d18097d05c1db06b338/torchdiffeq-0.1.1-py3-none-any.whl\n",
            "Requirement already satisfied: torch>=1.3.0 in /usr/local/lib/python3.6/dist-packages (from torchdiffeq) (1.7.0+cu101)\n",
            "Requirement already satisfied: dataclasses in /usr/local/lib/python3.6/dist-packages (from torch>=1.3.0->torchdiffeq) (0.8)\n",
            "Requirement already satisfied: future in /usr/local/lib/python3.6/dist-packages (from torch>=1.3.0->torchdiffeq) (0.16.0)\n",
            "Requirement already satisfied: typing-extensions in /usr/local/lib/python3.6/dist-packages (from torch>=1.3.0->torchdiffeq) (3.7.4.3)\n",
            "Requirement already satisfied: numpy in /usr/local/lib/python3.6/dist-packages (from torch>=1.3.0->torchdiffeq) (1.19.5)\n",
            "Installing collected packages: torchdiffeq\n",
            "Successfully installed torchdiffeq-0.1.1\n",
            "/content\n"
          ],
          "name": "stdout"
        }
      ]
    },
    {
      "cell_type": "code",
      "metadata": {
        "id": "uk9VSkXKI92o"
      },
      "source": [
        "import gru_ode_bayes\r\n",
        "import gru_ode_bayes.data_utils as data_utils"
      ],
      "execution_count": 2,
      "outputs": []
    },
    {
      "cell_type": "code",
      "metadata": {
        "colab": {
          "base_uri": "https://localhost:8080/"
        },
        "id": "sPfSJyWqFJ21",
        "outputId": "3c742dd3-286c-4f13-c83b-62a1f5a7abb2"
      },
      "source": [
        "pt_ds = data_utils.ODE_Dataset(csv_file= time_series_file, cov_file=cov_file)\r\n",
        "i = 0\r\n",
        "batch = []\r\n",
        "for d in pt_ds:\r\n",
        "  batch.append(d)\r\n",
        "  i += 1\r\n",
        "  if i > 10: break\r\n",
        "\r\n",
        "print(d)"
      ],
      "execution_count": 3,
      "outputs": [
        {
          "output_type": "stream",
          "text": [
            "{'idx': 10, 'y': array([0.], dtype=float32), 'path':           Time       Value_1       Value_2  ...  Mask_3  Mask_4  Mask_5\n",
            "ID                                          ...                        \n",
            "10    0.600000  65504.000000  65504.000000  ...     1.0     0.0     0.0\n",
            "10    3.200000     -0.406599  65504.000000  ...     0.0     0.0     0.0\n",
            "10    3.300000  65504.000000  65504.000000  ...     0.0     1.0     0.0\n",
            "10    5.500000  65504.000000  65504.000000  ...     0.0     1.0     0.0\n",
            "10    5.600000  65504.000000     -0.465899  ...     0.0     0.0     0.0\n",
            "..         ...           ...           ...  ...     ...     ...     ...\n",
            "10  172.300003  65504.000000  65504.000000  ...     1.0     0.0     0.0\n",
            "10  172.399994  65504.000000  65504.000000  ...     0.0     0.0     1.0\n",
            "10  172.699997  65504.000000  65504.000000  ...     0.0     1.0     0.0\n",
            "10  175.600006  65504.000000  65504.000000  ...     0.0     0.0     1.0\n",
            "10  176.000000  65504.000000  65504.000000  ...     1.0     0.0     0.0\n",
            "\n",
            "[145 rows x 11 columns], 'cov': array([-0.46183792, -0.46626183, -0.46741176, -0.46371   , -0.46985722],\n",
            "      dtype=float32), 'val_samples': None, 'store_last': False}\n"
          ],
          "name": "stdout"
        }
      ]
    },
    {
      "cell_type": "code",
      "metadata": {
        "colab": {
          "base_uri": "https://localhost:8080/",
          "height": 450
        },
        "id": "P0KFnDMXFTd0",
        "outputId": "fda1391b-449d-4c77-c98f-f48a53baf321"
      },
      "source": [
        "d['path']"
      ],
      "execution_count": 4,
      "outputs": [
        {
          "output_type": "execute_result",
          "data": {
            "text/html": [
              "<div>\n",
              "<style scoped>\n",
              "    .dataframe tbody tr th:only-of-type {\n",
              "        vertical-align: middle;\n",
              "    }\n",
              "\n",
              "    .dataframe tbody tr th {\n",
              "        vertical-align: top;\n",
              "    }\n",
              "\n",
              "    .dataframe thead th {\n",
              "        text-align: right;\n",
              "    }\n",
              "</style>\n",
              "<table border=\"1\" class=\"dataframe\">\n",
              "  <thead>\n",
              "    <tr style=\"text-align: right;\">\n",
              "      <th></th>\n",
              "      <th>Time</th>\n",
              "      <th>Value_1</th>\n",
              "      <th>Value_2</th>\n",
              "      <th>Value_3</th>\n",
              "      <th>Value_4</th>\n",
              "      <th>Value_5</th>\n",
              "      <th>Mask_1</th>\n",
              "      <th>Mask_2</th>\n",
              "      <th>Mask_3</th>\n",
              "      <th>Mask_4</th>\n",
              "      <th>Mask_5</th>\n",
              "    </tr>\n",
              "    <tr>\n",
              "      <th>ID</th>\n",
              "      <th></th>\n",
              "      <th></th>\n",
              "      <th></th>\n",
              "      <th></th>\n",
              "      <th></th>\n",
              "      <th></th>\n",
              "      <th></th>\n",
              "      <th></th>\n",
              "      <th></th>\n",
              "      <th></th>\n",
              "      <th></th>\n",
              "    </tr>\n",
              "  </thead>\n",
              "  <tbody>\n",
              "    <tr>\n",
              "      <th>10</th>\n",
              "      <td>0.600000</td>\n",
              "      <td>65504.000000</td>\n",
              "      <td>65504.000000</td>\n",
              "      <td>-0.465282</td>\n",
              "      <td>65504.000000</td>\n",
              "      <td>65504.000000</td>\n",
              "      <td>0.0</td>\n",
              "      <td>0.0</td>\n",
              "      <td>1.0</td>\n",
              "      <td>0.0</td>\n",
              "      <td>0.0</td>\n",
              "    </tr>\n",
              "    <tr>\n",
              "      <th>10</th>\n",
              "      <td>3.200000</td>\n",
              "      <td>-0.406599</td>\n",
              "      <td>65504.000000</td>\n",
              "      <td>65504.000000</td>\n",
              "      <td>65504.000000</td>\n",
              "      <td>65504.000000</td>\n",
              "      <td>1.0</td>\n",
              "      <td>0.0</td>\n",
              "      <td>0.0</td>\n",
              "      <td>0.0</td>\n",
              "      <td>0.0</td>\n",
              "    </tr>\n",
              "    <tr>\n",
              "      <th>10</th>\n",
              "      <td>3.300000</td>\n",
              "      <td>65504.000000</td>\n",
              "      <td>65504.000000</td>\n",
              "      <td>65504.000000</td>\n",
              "      <td>-0.377901</td>\n",
              "      <td>65504.000000</td>\n",
              "      <td>0.0</td>\n",
              "      <td>0.0</td>\n",
              "      <td>0.0</td>\n",
              "      <td>1.0</td>\n",
              "      <td>0.0</td>\n",
              "    </tr>\n",
              "    <tr>\n",
              "      <th>10</th>\n",
              "      <td>5.500000</td>\n",
              "      <td>65504.000000</td>\n",
              "      <td>65504.000000</td>\n",
              "      <td>65504.000000</td>\n",
              "      <td>-0.382268</td>\n",
              "      <td>65504.000000</td>\n",
              "      <td>0.0</td>\n",
              "      <td>0.0</td>\n",
              "      <td>0.0</td>\n",
              "      <td>1.0</td>\n",
              "      <td>0.0</td>\n",
              "    </tr>\n",
              "    <tr>\n",
              "      <th>10</th>\n",
              "      <td>5.600000</td>\n",
              "      <td>65504.000000</td>\n",
              "      <td>-0.465899</td>\n",
              "      <td>65504.000000</td>\n",
              "      <td>65504.000000</td>\n",
              "      <td>65504.000000</td>\n",
              "      <td>0.0</td>\n",
              "      <td>1.0</td>\n",
              "      <td>0.0</td>\n",
              "      <td>0.0</td>\n",
              "      <td>0.0</td>\n",
              "    </tr>\n",
              "    <tr>\n",
              "      <th>...</th>\n",
              "      <td>...</td>\n",
              "      <td>...</td>\n",
              "      <td>...</td>\n",
              "      <td>...</td>\n",
              "      <td>...</td>\n",
              "      <td>...</td>\n",
              "      <td>...</td>\n",
              "      <td>...</td>\n",
              "      <td>...</td>\n",
              "      <td>...</td>\n",
              "      <td>...</td>\n",
              "    </tr>\n",
              "    <tr>\n",
              "      <th>10</th>\n",
              "      <td>172.300003</td>\n",
              "      <td>65504.000000</td>\n",
              "      <td>65504.000000</td>\n",
              "      <td>-0.474490</td>\n",
              "      <td>65504.000000</td>\n",
              "      <td>65504.000000</td>\n",
              "      <td>0.0</td>\n",
              "      <td>0.0</td>\n",
              "      <td>1.0</td>\n",
              "      <td>0.0</td>\n",
              "      <td>0.0</td>\n",
              "    </tr>\n",
              "    <tr>\n",
              "      <th>10</th>\n",
              "      <td>172.399994</td>\n",
              "      <td>65504.000000</td>\n",
              "      <td>65504.000000</td>\n",
              "      <td>65504.000000</td>\n",
              "      <td>65504.000000</td>\n",
              "      <td>-0.377228</td>\n",
              "      <td>0.0</td>\n",
              "      <td>0.0</td>\n",
              "      <td>0.0</td>\n",
              "      <td>0.0</td>\n",
              "      <td>1.0</td>\n",
              "    </tr>\n",
              "    <tr>\n",
              "      <th>10</th>\n",
              "      <td>172.699997</td>\n",
              "      <td>65504.000000</td>\n",
              "      <td>65504.000000</td>\n",
              "      <td>65504.000000</td>\n",
              "      <td>-0.402567</td>\n",
              "      <td>65504.000000</td>\n",
              "      <td>0.0</td>\n",
              "      <td>0.0</td>\n",
              "      <td>0.0</td>\n",
              "      <td>1.0</td>\n",
              "      <td>0.0</td>\n",
              "    </tr>\n",
              "    <tr>\n",
              "      <th>10</th>\n",
              "      <td>175.600006</td>\n",
              "      <td>65504.000000</td>\n",
              "      <td>65504.000000</td>\n",
              "      <td>65504.000000</td>\n",
              "      <td>65504.000000</td>\n",
              "      <td>-0.445638</td>\n",
              "      <td>0.0</td>\n",
              "      <td>0.0</td>\n",
              "      <td>0.0</td>\n",
              "      <td>0.0</td>\n",
              "      <td>1.0</td>\n",
              "    </tr>\n",
              "    <tr>\n",
              "      <th>10</th>\n",
              "      <td>176.000000</td>\n",
              "      <td>65504.000000</td>\n",
              "      <td>65504.000000</td>\n",
              "      <td>-0.474873</td>\n",
              "      <td>65504.000000</td>\n",
              "      <td>65504.000000</td>\n",
              "      <td>0.0</td>\n",
              "      <td>0.0</td>\n",
              "      <td>1.0</td>\n",
              "      <td>0.0</td>\n",
              "      <td>0.0</td>\n",
              "    </tr>\n",
              "  </tbody>\n",
              "</table>\n",
              "<p>145 rows × 11 columns</p>\n",
              "</div>"
            ],
            "text/plain": [
              "          Time       Value_1       Value_2  ...  Mask_3  Mask_4  Mask_5\n",
              "ID                                          ...                        \n",
              "10    0.600000  65504.000000  65504.000000  ...     1.0     0.0     0.0\n",
              "10    3.200000     -0.406599  65504.000000  ...     0.0     0.0     0.0\n",
              "10    3.300000  65504.000000  65504.000000  ...     0.0     1.0     0.0\n",
              "10    5.500000  65504.000000  65504.000000  ...     0.0     1.0     0.0\n",
              "10    5.600000  65504.000000     -0.465899  ...     0.0     0.0     0.0\n",
              "..         ...           ...           ...  ...     ...     ...     ...\n",
              "10  172.300003  65504.000000  65504.000000  ...     1.0     0.0     0.0\n",
              "10  172.399994  65504.000000  65504.000000  ...     0.0     0.0     1.0\n",
              "10  172.699997  65504.000000  65504.000000  ...     0.0     1.0     0.0\n",
              "10  175.600006  65504.000000  65504.000000  ...     0.0     0.0     1.0\n",
              "10  176.000000  65504.000000  65504.000000  ...     1.0     0.0     0.0\n",
              "\n",
              "[145 rows x 11 columns]"
            ]
          },
          "metadata": {
            "tags": []
          },
          "execution_count": 4
        }
      ]
    },
    {
      "cell_type": "code",
      "metadata": {
        "id": "Aqe-jbqXFfEn"
      },
      "source": [
        "import gru_ode_bayes.data_utils as data_utils\r\n",
        "from torch.utils.data import DataLoader\r\n",
        "from sklearn.model_selection import train_test_split\r\n",
        "import numpy as np\r\n",
        "\r\n",
        "delta_t = 0.1\r\n",
        "T       = 200\r\n",
        "N = 10000\r\n",
        "seed = 42\r\n",
        "train_idx, val_idx = train_test_split(np.arange(N),test_size=0.2, random_state=seed)\r\n",
        "\r\n",
        "val_options = {\"T_val\": 178, \"max_val_samples\": 1}\r\n",
        "data_train = data_utils.ODE_Dataset(csv_file=time_series_file, \r\n",
        "                                    cov_file=cov_file,\r\n",
        "                                    idx=train_idx)\r\n",
        "data_val   = data_utils.ODE_Dataset(csv_file=time_series_file, \r\n",
        "                                    cov_file=cov_file,\r\n",
        "                                    idx=val_idx, \r\n",
        "                                    validation = True,val_options=val_options)\r\n",
        "\r\n",
        "\r\n",
        "dl     = DataLoader(dataset=data_train, collate_fn=data_utils.custom_collate_fn, shuffle=True, batch_size=500,num_workers=2)\r\n",
        "dl_val = DataLoader(dataset=data_val, collate_fn=data_utils.custom_collate_fn, shuffle=False, batch_size=len(data_val),num_workers=1)"
      ],
      "execution_count": 5,
      "outputs": []
    },
    {
      "cell_type": "code",
      "metadata": {
        "id": "aG-HzuPlFncr"
      },
      "source": [
        "import tqdm.notebook as tqdm\r\n",
        "import torch"
      ],
      "execution_count": 6,
      "outputs": []
    },
    {
      "cell_type": "code",
      "metadata": {
        "colab": {
          "base_uri": "https://localhost:8080/",
          "height": 49,
          "referenced_widgets": [
            "03f03706bac04f35a7943f4902de7f3a",
            "14a651cebf764855b3f1d52796c94954",
            "6779e69938ed49b79947ce906aa504cb",
            "f00fca9a4e7b4e49bcd9b8d92f89775f",
            "4f16612be8734d6ebe4ff42eb85f3c5f",
            "34d94cbd18a2402ea293d2e98a7faed7",
            "9d20f7bcc68c4095a023146e4ae62038",
            "099ba3585e804a0aaf8617a2b79133d9"
          ]
        },
        "id": "wcpgV-YXHP4s",
        "outputId": "a7767268-d1b9-4f1c-b530-4d11f0f8220c"
      },
      "source": [
        "for i, b in tqdm.tqdm(enumerate(dl)):\r\n",
        "  times    = b[\"times\"]\r\n",
        "  time_ptr = b[\"time_ptr\"]\r\n",
        "  X        = b[\"X\"] #.to(device)\r\n",
        "  M        = b[\"M\"] #.to(device)\r\n",
        "  obs_idx  = b[\"obs_idx\"]\r\n",
        "  cov      = b[\"cov\"] #.to(device)\r\n",
        "  break"
      ],
      "execution_count": 7,
      "outputs": [
        {
          "output_type": "display_data",
          "data": {
            "application/vnd.jupyter.widget-view+json": {
              "model_id": "03f03706bac04f35a7943f4902de7f3a",
              "version_minor": 0,
              "version_major": 2
            },
            "text/plain": [
              "HBox(children=(FloatProgress(value=1.0, bar_style='info', max=1.0), HTML(value='')))"
            ]
          },
          "metadata": {
            "tags": []
          }
        }
      ]
    },
    {
      "cell_type": "code",
      "metadata": {
        "id": "C2ZnxnByl7ic",
        "colab": {
          "base_uri": "https://localhost:8080/"
        },
        "outputId": "ac54cffd-1e77-41a6-ae29-afabaa97b5b8"
      },
      "source": [
        "cov.shape"
      ],
      "execution_count": 8,
      "outputs": [
        {
          "output_type": "execute_result",
          "data": {
            "text/plain": [
              "torch.Size([500, 5])"
            ]
          },
          "metadata": {
            "tags": []
          },
          "execution_count": 8
        }
      ]
    },
    {
      "cell_type": "code",
      "metadata": {
        "id": "1f8HQiymHRNX",
        "colab": {
          "base_uri": "https://localhost:8080/"
        },
        "outputId": "bcd3291b-e103-4985-f1ab-ece4b3db3c12"
      },
      "source": [
        "times.dtype, time_ptr.dtype, X.dtype, M.dtype, obs_idx.dtype, cov.dtype"
      ],
      "execution_count": 9,
      "outputs": [
        {
          "output_type": "execute_result",
          "data": {
            "text/plain": [
              "(dtype('float32'),\n",
              " dtype('int64'),\n",
              " torch.float32,\n",
              " torch.float32,\n",
              " torch.int64,\n",
              " torch.float32)"
            ]
          },
          "metadata": {
            "tags": []
          },
          "execution_count": 9
        }
      ]
    },
    {
      "cell_type": "code",
      "metadata": {
        "id": "Bv3XUIRPHkpB",
        "colab": {
          "base_uri": "https://localhost:8080/"
        },
        "outputId": "4c661dc0-b912-489b-a433-dc381f2d17cb"
      },
      "source": [
        "times.shape, time_ptr.shape, X.shape, M.shape, obs_idx.shape, cov.shape"
      ],
      "execution_count": 10,
      "outputs": [
        {
          "output_type": "execute_result",
          "data": {
            "text/plain": [
              "((1800,),\n",
              " (1801,),\n",
              " torch.Size([71695, 5]),\n",
              " torch.Size([71695, 5]),\n",
              " torch.Size([71695]),\n",
              " torch.Size([500, 5]))"
            ]
          },
          "metadata": {
            "tags": []
          },
          "execution_count": 10
        }
      ]
    },
    {
      "cell_type": "markdown",
      "metadata": {
        "id": "e3ZgQ32OHp18"
      },
      "source": [
        "# Input to GRU-ODE-Bayes\r\n",
        "\r\n",
        "## `X` and `M`\r\n",
        "- $[ \\rm{number ~ of ~ observations, number ~ of ~ bands}]$\r\n",
        "- except `M` is a bool mask, 1 == observation at particular time and band\r\n",
        "\r\n",
        "## `Times`\r\n",
        "- the discrete timestamps with observations\r\n",
        "- note that its different from `number of observations`\r\n",
        "\r\n",
        "## `time_ptr`\r\n",
        "\r\n",
        "- \r\n",
        "```python\r\n",
        "## calculating number of events at every time\r\n",
        "times, counts = np.unique(df.Time.values, return_counts=True)\r\n",
        "time_ptr      = np.concatenate([[0], np.cumsum(counts)])\r\n",
        "```\r\n",
        "- it is the cumulative counts at different timestamp\r\n",
        "- in other sense, it gives the **index** of observations between `times[i]` to `times[i+1]`\r\n",
        "- i.e.:\r\n",
        "```python\r\n",
        "# get the index\r\n",
        "start = time_ptr[i]\r\n",
        "end   = time_ptr[i+1]\r\n",
        "time_start = times[i-1]\r\n",
        "time_end   = times[i]\r\n",
        "# extract all observations between the `time_start` and `time_end`\r\n",
        "X_obs = X[start: end, :]\r\n",
        "M_obs = X[start: end, :]\r\n",
        "```\r\n",
        "\r\n",
        "## `obs_idx`\r\n",
        "- return the index of independent objects/ pointings in the batch\r\n"
      ]
    },
    {
      "cell_type": "markdown",
      "metadata": {
        "id": "c3E1xgvsHsgZ"
      },
      "source": [
        "# Model Parameter"
      ]
    },
    {
      "cell_type": "code",
      "metadata": {
        "id": "Tjy4i4rnHmi7"
      },
      "source": [
        "#Model parameters.\r\n",
        "params_dict = {}\r\n",
        "params_dict[\"input_size\"]  = 5\r\n",
        "params_dict[\"hidden_size\"] = 50\r\n",
        "params_dict[\"p_hidden\"]    = 50\r\n",
        "params_dict[\"prep_hidden\"] = 50\r\n",
        "params_dict['cov_hidden']  = 50\r\n",
        "\r\n",
        "params_dict[\"logvar\"]      = True\r\n",
        "params_dict[\"mixing\"]      = 0.0001\r\n",
        "params_dict[\"delta_t\"]     = 0.1\r\n",
        "# params_dict[\"dataset\"]     = args.dataset\r\n",
        "# params_dict[\"jitter\"]      = args.jitter\r\n",
        "#params_dict[\"gru_bayes\"]   = \"masked_mlp\"\r\n",
        "params_dict[\"full_gru_ode\"] = True\r\n",
        "# params_dict[\"solver\"]      = args.solver\r\n",
        "params_dict[\"impute\"]      = False\r\n",
        "\r\n",
        "params_dict[\"T\"]           = 180"
      ],
      "execution_count": 11,
      "outputs": []
    },
    {
      "cell_type": "code",
      "metadata": {
        "id": "4Vvf9O5vHuCA",
        "colab": {
          "base_uri": "https://localhost:8080/"
        },
        "outputId": "270f8d35-f06c-44db-feb1-219318b95691"
      },
      "source": [
        "model = gru_ode_bayes.NNFOwithBayesianJumps(input_size = params_dict[\"input_size\"], \r\n",
        "                                            hidden_size = params_dict[\"hidden_size\"], \r\n",
        "                                            p_hidden = params_dict[\"p_hidden\"], \r\n",
        "                                            prep_hidden = params_dict[\"prep_hidden\"],\r\n",
        "                                            logvar = params_dict[\"logvar\"], \r\n",
        "                                            mixing = params_dict[\"mixing\"],\r\n",
        "                                            cov_hidden = params_dict['cov_hidden'], \r\n",
        "                                            solver='midpoint',\r\n",
        "                                            cov_size=5,\r\n",
        "                                            full_gru_ode=True)\r\n",
        "\r\n",
        "optimizer = torch.optim.Adam(model.parameters(), lr=0.001, weight_decay=0.0005)\r\n",
        "device = 'cuda'\r\n",
        "model.to(device)"
      ],
      "execution_count": 12,
      "outputs": [
        {
          "output_type": "execute_result",
          "data": {
            "text/plain": [
              "NNFOwithBayesianJumps(\n",
              "  (p_model): Sequential(\n",
              "    (0): Linear(in_features=50, out_features=50, bias=True)\n",
              "    (1): ReLU()\n",
              "    (2): Dropout(p=0, inplace=False)\n",
              "    (3): Linear(in_features=50, out_features=10, bias=True)\n",
              "  )\n",
              "  (classification_model): Sequential(\n",
              "    (0): Linear(in_features=50, out_features=1, bias=True)\n",
              "    (1): ReLU()\n",
              "    (2): Dropout(p=0, inplace=False)\n",
              "    (3): Linear(in_features=1, out_features=1, bias=True)\n",
              "  )\n",
              "  (gru_c): FullGRUODECell(\n",
              "    (lin_x): Linear(in_features=10, out_features=150, bias=True)\n",
              "    (lin_hh): Linear(in_features=50, out_features=50, bias=False)\n",
              "    (lin_hz): Linear(in_features=50, out_features=50, bias=False)\n",
              "    (lin_hr): Linear(in_features=50, out_features=50, bias=False)\n",
              "  )\n",
              "  (gru_obs): GRUObservationCellLogvar(\n",
              "    (gru_d): GRUCell(250, 50)\n",
              "    (gru_debug): GRUCell(250, 50)\n",
              "  )\n",
              "  (covariates_map): Sequential(\n",
              "    (0): Linear(in_features=5, out_features=50, bias=True)\n",
              "    (1): ReLU()\n",
              "    (2): Dropout(p=0, inplace=False)\n",
              "    (3): Linear(in_features=50, out_features=50, bias=True)\n",
              "    (4): Tanh()\n",
              "  )\n",
              ")"
            ]
          },
          "metadata": {
            "tags": []
          },
          "execution_count": 12
        }
      ]
    },
    {
      "cell_type": "markdown",
      "metadata": {
        "id": "3D17y1Y0Jb6Q"
      },
      "source": [
        "# Begin Training"
      ]
    },
    {
      "cell_type": "code",
      "metadata": {
        "id": "chjZ2gs8Hx2p",
        "colab": {
          "base_uri": "https://localhost:8080/",
          "height": 247,
          "referenced_widgets": [
            "bfca46436a02449187968a14e3729776",
            "648cdebefad945a49964fdbebcb13dbc",
            "e24693f270674eb3b041d1cdca1af04c",
            "c96dc0ef1bcb477da4397f5ad1c693bf",
            "9965ff5fbfd7482c8209b220a54f97c8",
            "44570eda870f452383076cbc18e467ee",
            "aeb8c8e25623409daf79665cf10bd8d4",
            "4ff1689e2ba64c3ab33d5334cd635b37",
            "c13878066a904c8f817dcf4e88b1768a",
            "147c7c53f57d4e4c9e868f4b86a246e7",
            "a3db0cc0031047d59fb6d174af70a89e",
            "2584e0f4afe941b2bd20e7be344eb4eb",
            "95e41e6844614409acc4437d8d2fff54",
            "2d3922c530b94edfa36e7561ddc28522",
            "7cb0774e76d146c28ee2c47a568fcde3",
            "e637b39eb3734772b6571c39f2b6ecf9",
            "d8b8c78b9dbc4e659e5a6c3b998c2e11",
            "0bbe8de1d5544001bf38e3c6dc46c01f",
            "50c2a4c61eaf410597da6bc1f0427284",
            "4617d0d6885c4b659f6cb2abe0d3986f",
            "15ebba1a6b9440628512646e4ebf886c",
            "1bf2b0e7ad6d4e0b827bf1d9434b26d5",
            "704879bd3a284f0ea87e506c2617f5dc",
            "dd8cdbf4937d42c4a6b096cf823d0773",
            "6ba1d66c71ba4a1bae2be8d570489fe7",
            "8864a9afcec14881b8adaa1fe6bd11df",
            "dc281e53559b4a298c938a4e941c7b98",
            "f7e9cc7b55304bedabdf4039d5905cf6",
            "9d9d867cdee6497bb1ac55d05d7315c0",
            "db4ebdcfb6d941019ad8e5d5097c60a2",
            "55d67de3737540d88e8d059dae6c259e",
            "cbb8704df0e5492b982b69f8e0196e43"
          ]
        },
        "outputId": "279bf13f-3fd0-4953-82d7-d348c01f85a1"
      },
      "source": [
        "#Training\r\n",
        "\r\n",
        "nll_history = []\r\n",
        "mse_history = []\r\n",
        "for epoch in range(20):\r\n",
        "  model.train()\r\n",
        "  for i, b in tqdm.tqdm(enumerate(dl)):\r\n",
        "    optimizer.zero_grad()\r\n",
        "    times    = b[\"times\"]\r\n",
        "    time_ptr = b[\"time_ptr\"]\r\n",
        "    X        = b[\"X\"].to(device)\r\n",
        "    M        = b[\"M\"].to(device)\r\n",
        "    obs_idx  = b[\"obs_idx\"]\r\n",
        "    cov      = b[\"cov\"].to(device)\r\n",
        "\r\n",
        "    y = b[\"y\"]\r\n",
        "    hT, loss, _, _  = model(times, time_ptr, X, M, obs_idx, delta_t=delta_t, T=T, cov=cov)\r\n",
        "\r\n",
        "    loss.backward()\r\n",
        "    optimizer.step()\r\n",
        "\r\n",
        "  with torch.no_grad():\r\n",
        "    mse_val  = 0\r\n",
        "    loss_val = 0\r\n",
        "    num_obs  = 0\r\n",
        "    model.eval()\r\n",
        "    for i, b in enumerate(dl_val):\r\n",
        "      times    = b[\"times\"]\r\n",
        "      time_ptr = b[\"time_ptr\"]\r\n",
        "      X        = b[\"X\"].to(device)\r\n",
        "      M        = b[\"M\"].to(device)\r\n",
        "      obs_idx  = b[\"obs_idx\"]\r\n",
        "      cov      = b[\"cov\"].to(device)\r\n",
        "\r\n",
        "      X_val     = b[\"X_val\"].to(device)\r\n",
        "      M_val     = b[\"M_val\"].to(device)\r\n",
        "      times_val = b[\"times_val\"]\r\n",
        "      times_idx = b[\"index_val\"]\r\n",
        "\r\n",
        "      y = b[\"y\"]\r\n",
        "\r\n",
        "      hT, loss, _, t_vec, p_vec, h_vec, _, _ = model(times, time_ptr, X, M, obs_idx, delta_t=delta_t, T=T, cov=cov, return_path=True)\r\n",
        "      t_vec = np.around(t_vec,str(delta_t)[::-1].find('.')).astype(np.float32) #Round floating points error in the time vector.\r\n",
        "\r\n",
        "      p_val     = data_utils.extract_from_path(t_vec,p_vec,times_val,times_idx)\r\n",
        "      m, v      = torch.chunk(p_val,2,dim=1)\r\n",
        "      last_loss = (data_utils.log_lik_gaussian(X_val,m,v)*M_val).sum()\r\n",
        "      mse_loss  = (torch.pow(X_val - m, 2) * M_val).sum()\r\n",
        "\r\n",
        "      loss_val += last_loss.cpu().numpy()\r\n",
        "      mse_val  += mse_loss.cpu().numpy()\r\n",
        "      num_obs  += M_val.sum().cpu().numpy()\r\n",
        "\r\n",
        "    loss_val /= num_obs\r\n",
        "    mse_val  /= num_obs\r\n",
        "    print(f\"Mean validation loss at epoch {epoch}: nll={loss_val:.5f}, mse={mse_val:.5f}  (num_obs={num_obs})\")\r\n",
        "\r\n",
        "    nll_history.append(loss_val)\r\n",
        "    mse_history.append(mse_val)"
      ],
      "execution_count": null,
      "outputs": [
        {
          "output_type": "display_data",
          "data": {
            "application/vnd.jupyter.widget-view+json": {
              "model_id": "bfca46436a02449187968a14e3729776",
              "version_minor": 0,
              "version_major": 2
            },
            "text/plain": [
              "HBox(children=(FloatProgress(value=1.0, bar_style='info', max=1.0), HTML(value='')))"
            ]
          },
          "metadata": {
            "tags": []
          }
        },
        {
          "output_type": "stream",
          "text": [
            "\n",
            "Mean validation loss at epoch 0: nll=1.39330, mse=0.97857  (num_obs=257.0)\n"
          ],
          "name": "stdout"
        },
        {
          "output_type": "display_data",
          "data": {
            "application/vnd.jupyter.widget-view+json": {
              "model_id": "c13878066a904c8f817dcf4e88b1768a",
              "version_minor": 0,
              "version_major": 2
            },
            "text/plain": [
              "HBox(children=(FloatProgress(value=1.0, bar_style='info', max=1.0), HTML(value='')))"
            ]
          },
          "metadata": {
            "tags": []
          }
        },
        {
          "output_type": "stream",
          "text": [
            "\n",
            "Mean validation loss at epoch 1: nll=0.61869, mse=0.23747  (num_obs=257.0)\n"
          ],
          "name": "stdout"
        },
        {
          "output_type": "display_data",
          "data": {
            "application/vnd.jupyter.widget-view+json": {
              "model_id": "d8b8c78b9dbc4e659e5a6c3b998c2e11",
              "version_minor": 0,
              "version_major": 2
            },
            "text/plain": [
              "HBox(children=(FloatProgress(value=1.0, bar_style='info', max=1.0), HTML(value='')))"
            ]
          },
          "metadata": {
            "tags": []
          }
        },
        {
          "output_type": "stream",
          "text": [
            "\n",
            "Mean validation loss at epoch 2: nll=-0.06936, mse=0.06672  (num_obs=257.0)\n"
          ],
          "name": "stdout"
        },
        {
          "output_type": "display_data",
          "data": {
            "application/vnd.jupyter.widget-view+json": {
              "model_id": "6ba1d66c71ba4a1bae2be8d570489fe7",
              "version_minor": 0,
              "version_major": 2
            },
            "text/plain": [
              "HBox(children=(FloatProgress(value=1.0, bar_style='info', max=1.0), HTML(value='')))"
            ]
          },
          "metadata": {
            "tags": []
          }
        }
      ]
    },
    {
      "cell_type": "markdown",
      "metadata": {
        "id": "Sf-gEoVcMtf1"
      },
      "source": [
        "# Training Metrics"
      ]
    },
    {
      "cell_type": "code",
      "metadata": {
        "colab": {
          "background_save": true
        },
        "id": "3zuzdb0BJdyR"
      },
      "source": [
        "import matplotlib.pyplot as plt\r\n",
        "\r\n",
        "f, ax = plt.subplots()\r\n",
        "ax.plot(nll_history)\r\n",
        "ax.set_xlabel('Validation NLL')\r\n",
        "\r\n",
        "ax2 = ax.twinx()\r\n",
        "ax2.loglog(mse_history, color='r')\r\n",
        "ax2.set_ylabel('Validation MSE')"
      ],
      "execution_count": null,
      "outputs": []
    },
    {
      "cell_type": "markdown",
      "metadata": {
        "id": "7CdJTLVhMxbB"
      },
      "source": [
        "# Generate New Data Points"
      ]
    },
    {
      "cell_type": "code",
      "metadata": {
        "id": "lcXPU-lDJsHF"
      },
      "source": [
        "def visualize_model(ax, object_ID = 10):\r\n",
        "  df_objID0 = tmp[tmp.ID == object_ID]\r\n",
        "\r\n",
        "  times, count = np.unique(df_objID0.Time,return_counts=True)\r\n",
        "  time_ptr     = torch.from_numpy(np.concatenate([[0], count.cumsum()])).to(device)\r\n",
        "  times        = torch.from_numpy(times,).to(torch.float32).to(device)\r\n",
        "\r\n",
        "  X = torch.from_numpy(df_objID0.loc[:,val_cols].values).to(device) .to(torch.float32)\r\n",
        "  M = torch.from_numpy(df_objID0.loc[:,[f\"Mask_{i+1}\" for i in range(5)]].values).to(device)\r\n",
        "  obs_idx = torch.zeros((X.shape[0]), dtype=torch.long).to(device)\r\n",
        "\r\n",
        "  cov = torch.from_numpy(tmp_cov[tmp_cov.index == object_ID].values)\r\n",
        "  cov     = cov.to(torch.float32).to(device)\r\n",
        "\r\n",
        "  hT, loss, _, t_vec, p_vec, h_vec, _, _  = model(times, time_ptr, X, M, obs_idx, delta_t=0.01, T=200.0, cov=cov, return_path=True)\r\n",
        "\r\n",
        "  mean_pred, var_pred = torch.chunk(torch.squeeze(p_vec.detach(), 1), 2, dim=-1)\r\n",
        "  t_pred              = t_vec\r\n",
        "  sigma        = torch.exp(0.5 * var_pred)\r\n",
        "\r\n",
        "\r\n",
        "  color_cyc = plt.rcParams['axes.prop_cycle'].by_key()['color']\r\n",
        "\r\n",
        "  up_max   = 0\r\n",
        "  down_max = 0\r\n",
        "  for i in range(5):\r\n",
        "    # ax.scatter(t_pred, mean_pred[:,i].cpu().numpy()+i)\r\n",
        "    down = (mean_pred[:,i] - 1.96 * sigma[:,i]).cpu().numpy()+ i*0.5\r\n",
        "    up   = (mean_pred[:,i] + 1.96 * sigma[:,i]).cpu().numpy()+ i*0.5\r\n",
        "    ax.fill_between(t_pred.astype(float), down, up, alpha=0.3, color = color_cyc[i])\r\n",
        "\r\n",
        "    flux = df_objID0[f\"Value_{i+1}\"]\r\n",
        "    t    = df_objID0.Time\r\n",
        "    ax.scatter(t[flux<1e4], flux[flux<1e4] + i*0.5, s = 10, color = color_cyc[i])\r\n",
        "\r\n",
        "  up_max   = mean_pred.cpu().numpy().max()\r\n",
        "  down_min = mean_pred.cpu().numpy().min()\r\n",
        "\r\n",
        "  ax.set_ylim(down_min-0.5, up_max+5*0.5)"
      ],
      "execution_count": null,
      "outputs": []
    },
    {
      "cell_type": "code",
      "metadata": {
        "id": "FxbjrTaoM8Lo"
      },
      "source": [
        "import pandas as pd\r\n",
        "tmp = pd.read_csv(time_series_file)\r\n",
        "tmp_cov = pd.read_csv(cov_file).set_index('ID')\r\n",
        "val_cols = [f\"Value_{i+1}\" for i in range(5)]"
      ],
      "execution_count": null,
      "outputs": []
    },
    {
      "cell_type": "code",
      "metadata": {
        "id": "sJzyExs_MzUZ"
      },
      "source": [
        "f, ax = plt.subplots(1, 5, sharex=True, figsize=(20,4))\r\n",
        "ax_flat = ax.flat\r\n",
        "\r\n",
        "count = 0\r\n",
        "for i in np.random.randint(0, 10000, 5):\r\n",
        "  visualize_model(ax = ax_flat[count], object_ID=i)\r\n",
        "  count += 1"
      ],
      "execution_count": null,
      "outputs": []
    },
    {
      "cell_type": "code",
      "metadata": {
        "id": "_tA9MVaiNBJE"
      },
      "source": [
        ""
      ],
      "execution_count": null,
      "outputs": []
    }
  ]
}